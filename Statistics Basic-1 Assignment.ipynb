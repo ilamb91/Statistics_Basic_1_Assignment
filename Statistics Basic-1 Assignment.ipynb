{
 "cells": [
  {
   "cell_type": "markdown",
   "id": "6cbf0b55-273f-419e-b017-08c79b1dcc96",
   "metadata": {},
   "source": [
    "# Q1. What is Statistics?"
   ]
  },
  {
   "cell_type": "markdown",
   "id": "f6ad6671-6642-4a4c-9bf7-5f70cd197edd",
   "metadata": {},
   "source": [
    "- Statistics is simply defined as the study and manipulation of data. As we have already discussed in the introduction that statistics deals with the analysis and computation of numerical data. Let us see more definitions of statistics given by different authors here.\n",
    "\n",
    "- According to Merriam-Webster dictionary, statistics is defined as “classified facts representing the conditions of a people in a state – especially the facts that can be stated in numbers or any other tabular or classified arrangement”.\n",
    "\n",
    "- According to statistician Sir Arthur Lyon Bowley, statistics is defined as “Numerical statements of facts in any department of inquiry placed in relation to each other”."
   ]
  },
  {
   "cell_type": "markdown",
   "id": "b8560774-725a-43ea-94e3-5b1b8532db6d",
   "metadata": {},
   "source": [
    "# Q2. Define the different types of statistics and give an example of when each type might be used."
   ]
  },
  {
   "cell_type": "markdown",
   "id": "066560cb-1839-4fc0-89d0-9d88c0a6e794",
   "metadata": {},
   "source": [
    "A2. \n",
    "- Statistics have majorly categorised into two types:\n",
    "\n",
    "1. Descriptive statistics\n",
    "2. Inferential statistics\n",
    "\n",
    "# Descriptive Statistics\n",
    "- In this type of statistics, the data is summarised through the given observations. The summarisation is one from a sample of population using parameters such as the mean or standard deviation.\n",
    "- Descriptive statistics is a way to organise, represent and describe a collection of data using tables, graphs, and summary measures. For example, the collection of people in a city using the internet or using Television.\n",
    "- Descriptive statistics are also categorised into four different categories:\n",
    "- Measure of frequency\n",
    "- Measure of dispersion\n",
    "- Measure of central tendency\n",
    "- Measure of position\n",
    "- The frequency measurement displays the number of times a particular data occurs. Range, Variance, Standard Deviation are measures of dispersion. It identifies the spread of data. Central tendencies are the mean, median and mode of the data. And the measure of position describes the percentile and quartile ranks.\n",
    "\n",
    "# Inferential Statistics\n",
    "- This type of statistics is used to interpret the meaning of Descriptive statistics. That means once the data has been collected, analysed and summarised then we use these stats to describe the meaning of the collected data. Or we can say, it is used to draw conclusions from the data that depends on random variations such as observational errors, sampling variation, etc.\n",
    "\n",
    "- Inferential Statistics is a method that allows us to use information collected from a sample to make decisions, predictions or inferences from a population. It grants us permission to give statements that goes beyond the available data or information. For example, deriving estimates from hypothetical research."
   ]
  },
  {
   "cell_type": "markdown",
   "id": "05cf6c3e-dadd-48e1-abd2-dcc5d507c55e",
   "metadata": {},
   "source": [
    "# Q3. What are the different types of data and how do they differ from each other? Provide an example of each type of data."
   ]
  },
  {
   "cell_type": "markdown",
   "id": "dbdaa3d1-e427-4ba8-a859-4dc5eb740cbf",
   "metadata": {},
   "source": [
    "A3.There is two type of Data\n",
    "1. Quantitative (Numerical)\n",
    "2. Qualitative (Catagory)\n",
    "\n",
    "# Quantitative (Numerical)\n",
    "# Discrete\n",
    "- Discrete data can take only discrete values. Discrete information contains only a finite number of possible values. Those values cannot be subdivided meaningfully. Here, things can be counted in whole numbers.\n",
    "- Example: Number of students in the class\n",
    "# Continuous Data\n",
    "- Continuous data is data that can be calculated. It has an infinite number of probable values that can be selected within a given specific range.\n",
    "- Example: Temperature range\n",
    "# Qualitative (Catagory)\n",
    "# Nominal \n",
    "- Nominal data is one of the types of qualitative information which helps to label the variables without providing the numerical value. Nominal data is also called the nominal scale. It cannot be ordered and measured. \n",
    "- Examples of nominal data are letters, symbols, words, gender etc.\n",
    "# Ordinal Data\n",
    "- Ordinal data/variable is a type of data that follows a natural order. The significant feature of the nominal data is that the difference between the data values is not determined. This variable is mostly found in surveys, finance, economics, questionnaires, and so on.\n",
    "- Examples of Ordinal data is Customor feed back"
   ]
  },
  {
   "cell_type": "markdown",
   "id": "3d12c4f1-dd10-44c3-87dc-a3445334433d",
   "metadata": {},
   "source": [
    "# Q4. Categorise the following datasets with respect to quantitative and qualitative data types:"
   ]
  },
  {
   "cell_type": "markdown",
   "id": "59b4ef74-22bb-4545-9b99-0ab007e0f3da",
   "metadata": {},
   "source": [
    "A3:\n",
    "- (i) Grading in exam: A+, A, B+, B, C+, C, D, E = NOMINAL (Qualitative)\n",
    "- (ii) Colour of mangoes: yellow, green, orange, red = NOMINAL (Qualitative)\n",
    "- (iii) Height data of a class: [178.9, 179, 179.5, 176, 177.2, 178.3, 175.8,...] - CONTINUOUS (Quantitative)\n",
    "- (iv) Number of mangoes exported by a farm: [500, 600, 478, 672, ...] - DISCRETE (Quantitative)"
   ]
  },
  {
   "cell_type": "markdown",
   "id": "31c715dd-bec7-47d5-b5a7-ea01102e78e4",
   "metadata": {},
   "source": [
    "# Q5. Explain the concept of levels of measurement and give an example of a variable for each level."
   ]
  },
  {
   "cell_type": "markdown",
   "id": "27a2116c-2f21-4629-8be9-973ddd674553",
   "metadata": {},
   "source": [
    "- Levels of measurement, also called scales of measurement, tell you how precisely variables are recorded. In scientific research, a variable is anything that can take on different values across your data set (e.g., height or test scores).\n",
    "\n",
    "- There are 4 levels of measurement:\n",
    "\n",
    "- Nominal: the data can only be categorized\n",
    "- Ordinal: the data can be categorized and ranked\n",
    "- Interval: the data can be categorized, ranked, and evenly spaced\n",
    "- Ratio: the data can be categorized, ranked, evenly spaced, and has a natural zero.\n",
    "- Depending on the level of measurement of the variable, what you can do to analyze your data may be limited. There is a hierarchy in the complexity and precision of the level of measurement, from low (nominal) to high (ratio).\n",
    "\n",
    "- The level at which you measure a variable determines how you can analyze your data.\n",
    "\n",
    "- The different levels limit which descriptive statistics you can use to get an overall summary of your data, and which type of inferential statistics you can perform on your data to support or refute your hypothesis.\n",
    "\n",
    "- In many cases, your variables can be measured at different levels, so you have to choose the level of measurement you will use before data collection begins."
   ]
  },
  {
   "cell_type": "markdown",
   "id": "bdefc336-b360-41b6-b931-074f4fc84e42",
   "metadata": {},
   "source": [
    "# Q6. Why is it important to understand the level of measurement when analyzing data? Provide an example to illustrate your answer."
   ]
  },
  {
   "cell_type": "markdown",
   "id": "26ccc90a-7383-44a2-9f8c-46db6b831ecb",
   "metadata": {},
   "source": [
    "# A6. The level at which you measure a variable determines how you can analyze your data.\n",
    "\n",
    "- The different levels limit which descriptive statistics you can use to get an overall summary of your data, and which type of inferential statistics you can perform on your data to support or refute your hypothesis.\n",
    "\n",
    "- In many cases, your variables can be measured at different levels, so you have to choose the level of measurement you will use before data collection begins.\n",
    "\n",
    "# Example of a variable at 2 levels of measurement\n",
    "- You can measure the variable of income at an ordinal or ratio level.\n",
    "- Ordinal level: You create brackets of income ranges: $0–$19,999, $20,000–$39,999, and $40,000–$59,999. You ask participants to select the bracket that represents their annual income. The brackets are coded with numbers from 1–3.\n",
    "- Ratio level: You collect data on the exact annual incomes of your participants.\n",
    "- At a ratio level, you can see that the difference between A and B’s incomes is far greater than the difference between B and C’s incomes.\n",
    "\n",
    "- At an ordinal level, however, you only know the income bracket for each participant, not their exact income. Since you cannot say exactly how much each income differs from the others in your data set, you can only order the income levels and group the participants."
   ]
  },
  {
   "cell_type": "markdown",
   "id": "ef05cb01-18db-45f9-b039-d79de0363a3e",
   "metadata": {},
   "source": [
    "# Q7. How nominal data type is different from ordinal data type."
   ]
  },
  {
   "cell_type": "markdown",
   "id": "0479aae7-b65d-4c4e-a0a1-cc5e7344c9fd",
   "metadata": {},
   "source": [
    "A7\n",
    "- Nominal: Used to categorize data into mutually exclusive categories or groups.\n",
    "- Ordinal: Used to measure variables in a natural order, such as rating or ranking. They provide meaningful insights into attitudes, preferences, and behaviors by understanding the order of responses."
   ]
  },
  {
   "cell_type": "markdown",
   "id": "6c1ee2e1-e5c6-4318-8411-bd7e2cb5c8a3",
   "metadata": {},
   "source": [
    "# Q8. Which type of plot can be used to display data in terms of range?"
   ]
  },
  {
   "cell_type": "markdown",
   "id": "ba8322b4-5b24-449b-8388-56c75ed31ba9",
   "metadata": {},
   "source": [
    "A8. Histogram. If the groups depicted in a bar chart are actually continuous numeric ranges, we can push the bars together to generate a histogram. Bar lengths in histograms typically correspond to counts of data points, and their patterns demonstrate the distribution of variables in your data."
   ]
  },
  {
   "cell_type": "markdown",
   "id": "39e98f77-6749-4402-8bc8-6197dfa357dd",
   "metadata": {},
   "source": [
    "# Q9. Describe the difference between descriptive and inferential statistics. Give an example of each type of statistics and explain how they are used."
   ]
  },
  {
   "cell_type": "markdown",
   "id": "67f0d9c9-6c68-49b3-9943-b7e5323cfac8",
   "metadata": {},
   "source": [
    "A9: \n",
    "1. Descriptive Statistics: Descriptive statistics is a term given to the analysis of data that helps to describe, show and summarize data in a meaningful way. It is a simple way to describe our data. Descriptive statistics is very important to present our raw data ineffective/meaningful way using numerical calculations or graphs or tables. This type of statistics is applied to already known data. \n",
    "- Types of Descriptive Statistics:\n",
    "\n",
    "1. Measure of Central Tendency\n",
    "2. Measure of Variability\n",
    "\n",
    "- It gives information about raw data which describes the data in some manner.\n",
    "- It helps in organizing, analyzing, and to present data in a meaningful manner.\n",
    "- It is used to describe a situation.\n",
    "- It explains already known data and is limited to a sample or population having a small size.\n",
    "- It can be achieved with the help of charts, graphs, tables, etc.\n",
    "\n",
    "2. Inferential Statistics: In inferential statistics, predictions are made by taking any group of data in which you are interested. It can be defined as a random sample of data taken from a population to describe and make inferences about the population. Any group of data that includes all the data you are interested in is known as population. It basically allows you to make predictions by taking a small sample instead of working on the whole population.\n",
    "\n",
    "- It makes inferences about the population using data drawn from the population.\n",
    "- It allows us to compare data, and make hypotheses and predictions.\n",
    "- It is used to explain the chance of occurrence of an event.\n",
    "- It attempts to reach the conclusion about the population.\n",
    "- It can be achieved by probability."
   ]
  },
  {
   "cell_type": "markdown",
   "id": "dbda87ec-1503-475c-8e78-6799cca529eb",
   "metadata": {},
   "source": [
    "# Q10. What are some common measures of central tendency and variability used in statistics? Explain how each measure can be used to describe a dataset."
   ]
  },
  {
   "cell_type": "markdown",
   "id": "93ba1aac-09bb-4748-bd19-7b4edfa96763",
   "metadata": {},
   "source": [
    "A10\n",
    "# Central tendency\n",
    "- The central tendency measure is defined as the number used to represent the center or middle of a set of data values. The three commonly used measures of central tendency are the mean, median, and mode. \n",
    "\n",
    "- A statistic that tells us how the data values are dispersed or spread out is called the measure of dispersion. A simple measure of dispersion is the range. The range is equivalent to the difference between the highest and least data values. Another measure of dispersion is the standard deviation, representing the expected difference (or deviation) among a data value and the mean.\n",
    "\n",
    "# Variability\n",
    "- Variability is most commonly measured with the following descriptive statistics:\n",
    "\n",
    "- Range: the difference between the highest and lowest values\n",
    "- Interquartile range: the range of the middle half of a distribution\n",
    "- Standard deviation: average distance from the mean\n",
    "- Variance: average of squared distances from the mean"
   ]
  },
  {
   "cell_type": "code",
   "execution_count": null,
   "id": "009939cc-933d-4a3e-8183-2ffafaf0bf8f",
   "metadata": {},
   "outputs": [],
   "source": []
  }
 ],
 "metadata": {
  "kernelspec": {
   "display_name": "Python 3 (ipykernel)",
   "language": "python",
   "name": "python3"
  },
  "language_info": {
   "codemirror_mode": {
    "name": "ipython",
    "version": 3
   },
   "file_extension": ".py",
   "mimetype": "text/x-python",
   "name": "python",
   "nbconvert_exporter": "python",
   "pygments_lexer": "ipython3",
   "version": "3.10.8"
  }
 },
 "nbformat": 4,
 "nbformat_minor": 5
}
